{
 "cells": [
  {
   "cell_type": "code",
   "execution_count": 42,
   "id": "a8902c8e",
   "metadata": {},
   "outputs": [
    {
     "data": {
      "text/plain": [
       "'OK'"
      ]
     },
     "execution_count": 42,
     "metadata": {},
     "output_type": "execute_result"
    }
   ],
   "source": [
    "import pyautogui\n",
    "import time\n",
    "\n",
    "pyautogui.PAUSE = 0.5\n",
    "# Programa para fazer backup automático de arquivos no OneDrive\n",
    "# Abrir o Google Drive\n",
    "pyautogui.alert('O programa começará a rodar. Não pressione nem uma tecla. Aguarde o programa terminar de ser executado.')\n",
    "pyautogui.press(\"winleft\")\n",
    "pyautogui.write(\"Chrome\")\n",
    "pyautogui.press(\"enter\")\n",
    "time.sleep(1)\n",
    "pyautogui.write(\"https://drive.google.com/drive/my-drive\")\n",
    "pyautogui.press(\"enter\")\n",
    "# Entrar na área de trabalho\n",
    "pyautogui.hotkey(\"winleft\", \"d\")\n",
    "# Clicar no arquivo e arrastar o arquivo até o Google Drive\n",
    "pyautogui.moveTo(44,703)\n",
    "pyautogui.mouseDown()\n",
    "pyautogui.moveTo(985,939)\n",
    "# Enquanto estiver arrastando o arquivo, mudar a tela para o Google Drive\n",
    "pyautogui.hotkey(\"alt\", \"tab\")\n",
    "time.sleep(1)\n",
    "# Deixar o arquivo no Google Drive\n",
    "pyautogui.mouseUp()\n",
    "# Esperar 5 segundos\n",
    "time.sleep(5)\n",
    "pyautogui.alert('O programa já rodou. Pode usar o computador novamente.')"
   ]
  },
  {
   "cell_type": "code",
   "execution_count": null,
   "id": "f4818bbe",
   "metadata": {},
   "outputs": [],
   "source": []
  }
 ],
 "metadata": {
  "kernelspec": {
   "display_name": "Python 3 (ipykernel)",
   "language": "python",
   "name": "python3"
  },
  "language_info": {
   "codemirror_mode": {
    "name": "ipython",
    "version": 3
   },
   "file_extension": ".py",
   "mimetype": "text/x-python",
   "name": "python",
   "nbconvert_exporter": "python",
   "pygments_lexer": "ipython3",
   "version": "3.10.9"
  }
 },
 "nbformat": 4,
 "nbformat_minor": 5
}
